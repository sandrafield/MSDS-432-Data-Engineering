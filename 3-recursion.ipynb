{
 "cells": [
  {
   "cell_type": "markdown",
   "metadata": {},
   "source": [
    "<h1>Sandra Field </h1>\n",
    "MSDS 432, Dr Ali <br>\n",
    "Spring 2021<br>\n",
    "<h3>Iteration and Recursion</h3><br>"
   ]
  },
  {
   "cell_type": "code",
   "execution_count": 21,
   "metadata": {},
   "outputs": [],
   "source": [
    "import math\n",
    "import sys\n",
    "from scipy import stats\n",
    "import numpy as np\n",
    "import pandas as pd\n",
    "import time\n",
    "import timeit\n",
    "from time import perf_counter, perf_counter_ns\n",
    "from random import shuffle\n",
    "from random import seed\n",
    "from random import random\n",
    "import matplotlib.pyplot as plt\n",
    "#import matplotlib.style as style\n",
    "import seaborn as sns\n",
    "%matplotlib inline\n",
    "\n",
    "sns.set_style('white')\n"
   ]
  },
  {
   "cell_type": "markdown",
   "metadata": {},
   "source": [
    "<h2>Algorithms</h2>"
   ]
  },
  {
   "cell_type": "code",
   "execution_count": 28,
   "metadata": {},
   "outputs": [],
   "source": [
    "def recursive_fact(n):\n",
    "    if n == 1:\n",
    "        return 1\n",
    "    else:\n",
    "        return n * recursive_fact(n-1)\n",
    "    \n",
    "def iterative_fact(n):\n",
    "    result = 1\n",
    "    for i in range(n, 1, -1):\n",
    "        result *= i\n",
    "    return result"
   ]
  },
  {
   "cell_type": "markdown",
   "metadata": {},
   "source": [
    "<h2>Time Tracking Function</h2>"
   ]
  },
  {
   "cell_type": "code",
   "execution_count": 29,
   "metadata": {},
   "outputs": [],
   "source": [
    "#A time tracking function\n",
    "\n",
    "def elapsed(func):\n",
    "    time_start = perf_counter_ns()\n",
    "    func()\n",
    "    time_stop = perf_counter_ns()\n",
    "    return ((time_stop - time_start) / 1000000) #convert from ns to ms"
   ]
  },
  {
   "cell_type": "markdown",
   "metadata": {},
   "source": [
    "<h2>Create and Sort Data</h2>"
   ]
  },
  {
   "cell_type": "code",
   "execution_count": 52,
   "metadata": {},
   "outputs": [],
   "source": [
    "# Create the output metrics DataFrame\n",
    "results = pd.DataFrame(columns = ['N', 'Factorial', 'Recursive_ms', 'Iterative_ms', 'Diff_ms'])"
   ]
  },
  {
   "cell_type": "code",
   "execution_count": 53,
   "metadata": {},
   "outputs": [],
   "source": [
    "np.random.seed(424242)\n",
    "sys.setrecursionlimit(5000) # allow for benchmarking by increasing recursion depth"
   ]
  },
  {
   "cell_type": "code",
   "execution_count": 54,
   "metadata": {},
   "outputs": [
    {
     "data": {
      "text/plain": [
       "[118, 148, 160, 208, 228, 268, 298, 374, 399, 403]"
      ]
     },
     "execution_count": 54,
     "metadata": {},
     "output_type": "execute_result"
    }
   ],
   "source": [
    "array_size = 10\n",
    "arrx = []  #initialize new array \n",
    "arrx = list(np.unique(np.random.uniform(100,500, array_size).astype(int))) #this will ensure no duplicates, but sorts data\n",
    "arrx"
   ]
  },
  {
   "cell_type": "code",
   "execution_count": 55,
   "metadata": {},
   "outputs": [
    {
     "name": "stderr",
     "output_type": "stream",
     "text": [
      "<ipython-input-28-0b93424112e3>:5: RuntimeWarning: overflow encountered in long_scalars\n",
      "  return n * recursive_fact(n-1)\n"
     ]
    }
   ],
   "source": [
    "for i in range(len(arrx)):\n",
    "    n = arrx[i]\n",
    "    fact_int = iterative_fact(n)\n",
    "    fact_rec = recursive_fact(n)\n",
    "    \n",
    "    recurs_time = elapsed(lambda: recursive_fact(n))\n",
    "    iterat_time = elapsed(lambda: iterative_fact(n))\n",
    "    \n",
    "    results.loc[i] = [n, str(fact_int), recurs_time, iterat_time, recurs_time - iterat_time]\n",
    "                    "
   ]
  },
  {
   "cell_type": "markdown",
   "metadata": {},
   "source": [
    "<h1>Results</h1>"
   ]
  },
  {
   "cell_type": "code",
   "execution_count": 56,
   "metadata": {},
   "outputs": [
    {
     "data": {
      "text/html": [
       "<div>\n",
       "<style scoped>\n",
       "    .dataframe tbody tr th:only-of-type {\n",
       "        vertical-align: middle;\n",
       "    }\n",
       "\n",
       "    .dataframe tbody tr th {\n",
       "        vertical-align: top;\n",
       "    }\n",
       "\n",
       "    .dataframe thead th {\n",
       "        text-align: right;\n",
       "    }\n",
       "</style>\n",
       "<table border=\"1\" class=\"dataframe\">\n",
       "  <thead>\n",
       "    <tr style=\"text-align: right;\">\n",
       "      <th></th>\n",
       "      <th>N</th>\n",
       "      <th>Factorial</th>\n",
       "      <th>Recursive_ms</th>\n",
       "      <th>Iterative_ms</th>\n",
       "      <th>Diff_ms</th>\n",
       "    </tr>\n",
       "  </thead>\n",
       "  <tbody>\n",
       "    <tr>\n",
       "      <th>0</th>\n",
       "      <td>118</td>\n",
       "      <td>4684525849754290656574312362808384164392679504...</td>\n",
       "      <td>0.0680</td>\n",
       "      <td>0.0108</td>\n",
       "      <td>0.0572</td>\n",
       "    </tr>\n",
       "    <tr>\n",
       "      <th>1</th>\n",
       "      <td>148</td>\n",
       "      <td>2556323917872865588581178015776757943261545225...</td>\n",
       "      <td>0.0823</td>\n",
       "      <td>0.0132</td>\n",
       "      <td>0.0691</td>\n",
       "    </tr>\n",
       "    <tr>\n",
       "      <th>2</th>\n",
       "      <td>160</td>\n",
       "      <td>4714723635992061322406943211761943779511926230...</td>\n",
       "      <td>0.1079</td>\n",
       "      <td>0.0141</td>\n",
       "      <td>0.0938</td>\n",
       "    </tr>\n",
       "    <tr>\n",
       "      <th>3</th>\n",
       "      <td>208</td>\n",
       "      <td>2411110054505276003287178952912926704433581813...</td>\n",
       "      <td>0.1160</td>\n",
       "      <td>0.0281</td>\n",
       "      <td>0.0879</td>\n",
       "    </tr>\n",
       "    <tr>\n",
       "      <th>4</th>\n",
       "      <td>228</td>\n",
       "      <td>1473056256822997000534113214143303862239216277...</td>\n",
       "      <td>0.1262</td>\n",
       "      <td>0.0228</td>\n",
       "      <td>0.1034</td>\n",
       "    </tr>\n",
       "    <tr>\n",
       "      <th>5</th>\n",
       "      <td>268</td>\n",
       "      <td>9172675347196891999781112454545139236912362564...</td>\n",
       "      <td>0.1392</td>\n",
       "      <td>0.0297</td>\n",
       "      <td>0.1095</td>\n",
       "    </tr>\n",
       "    <tr>\n",
       "      <th>6</th>\n",
       "      <td>298</td>\n",
       "      <td>3412012399291422921241588197293964653161525130...</td>\n",
       "      <td>0.1521</td>\n",
       "      <td>0.0310</td>\n",
       "      <td>0.1211</td>\n",
       "    </tr>\n",
       "    <tr>\n",
       "      <th>7</th>\n",
       "      <td>374</td>\n",
       "      <td>3261861331620740114772523153105160433627580431...</td>\n",
       "      <td>0.1824</td>\n",
       "      <td>0.0443</td>\n",
       "      <td>0.1381</td>\n",
       "    </tr>\n",
       "    <tr>\n",
       "      <th>8</th>\n",
       "      <td>399</td>\n",
       "      <td>1600863071165597381558699257987575146267564575...</td>\n",
       "      <td>0.1990</td>\n",
       "      <td>0.0473</td>\n",
       "      <td>0.1517</td>\n",
       "    </tr>\n",
       "    <tr>\n",
       "      <th>9</th>\n",
       "      <td>403</td>\n",
       "      <td>4159964740224350461124650057112142990305417988...</td>\n",
       "      <td>0.1947</td>\n",
       "      <td>0.0476</td>\n",
       "      <td>0.1471</td>\n",
       "    </tr>\n",
       "  </tbody>\n",
       "</table>\n",
       "</div>"
      ],
      "text/plain": [
       "     N                                          Factorial  Recursive_ms  \\\n",
       "0  118  4684525849754290656574312362808384164392679504...        0.0680   \n",
       "1  148  2556323917872865588581178015776757943261545225...        0.0823   \n",
       "2  160  4714723635992061322406943211761943779511926230...        0.1079   \n",
       "3  208  2411110054505276003287178952912926704433581813...        0.1160   \n",
       "4  228  1473056256822997000534113214143303862239216277...        0.1262   \n",
       "5  268  9172675347196891999781112454545139236912362564...        0.1392   \n",
       "6  298  3412012399291422921241588197293964653161525130...        0.1521   \n",
       "7  374  3261861331620740114772523153105160433627580431...        0.1824   \n",
       "8  399  1600863071165597381558699257987575146267564575...        0.1990   \n",
       "9  403  4159964740224350461124650057112142990305417988...        0.1947   \n",
       "\n",
       "   Iterative_ms  Diff_ms  \n",
       "0        0.0108   0.0572  \n",
       "1        0.0132   0.0691  \n",
       "2        0.0141   0.0938  \n",
       "3        0.0281   0.0879  \n",
       "4        0.0228   0.1034  \n",
       "5        0.0297   0.1095  \n",
       "6        0.0310   0.1211  \n",
       "7        0.0443   0.1381  \n",
       "8        0.0473   0.1517  \n",
       "9        0.0476   0.1471  "
      ]
     },
     "execution_count": 56,
     "metadata": {},
     "output_type": "execute_result"
    }
   ],
   "source": [
    "results"
   ]
  },
  {
   "cell_type": "code",
   "execution_count": 57,
   "metadata": {},
   "outputs": [
    {
     "data": {
      "image/png": "[encoded data removed]",
      "text/plain": [
       "<Figure size 576x360 with 1 Axes>"
      ]
     },
     "metadata": {},
     "output_type": "display_data"
    }
   ],
   "source": [
    "ax = results.plot.line(x='N', figsize=(8,5), fontsize=13) #, marker='o', legend=False)\n",
    "ax.set_title('Factorial vs Iterative Run Times (ms)',fontsize= 22)\n",
    "ax.set_xlabel('N',fontsize=16)\n",
    "plt.xticks(rotation=45)\n",
    "ax.set_ylabel('Elapsed Time (ms)',fontsize=16)\n",
    "sns.despine()\n",
    "plt.show()"
   ]
  },
  {
   "cell_type": "markdown",
   "metadata": {},
   "source": [
    "<h1>Summary</h1>"
   ]
  },
  {
   "cell_type": "markdown",
   "metadata": {},
   "source": [
    "<p style=\"font-size:18px;color:#57595D; font-weight:normal; font-style:normal;font-family: 'Verdana'\">\n",
    "          Recursion is when a function calls itself. Recursion can take lots of extra memory and time, because it puts a lot more data onto the call stack during runtime.   As seen above, the iterative version of factorials takes much less time. Itarative loops can be longer and more difficult to write for programmers though, so there is a greater risk of error.</p>\n",
    "\n",
    "<p style=\"font-size:18px;color:#57595D; font-weight:normal; font-style:normal;font-family: 'Verdana'\">\n",
    "    Iteration requires <span style=\"color: red;\"><b> O(n) </b></span> time, but since recursion calls itself and uses the call stack so intensely, it requires <span style=\"color: red;\"><b> (O(n) * n) </b></span> time or <em style=\"color: red;\"><b>O(n)<sup>2 </sup> </b></em>time. </p>\n",
    "    \n",
    "<p style=\"font-size:18px;color:#57595D; font-weight:normal; font-style:normal;font-family: 'Verdana'\">\n",
    "</p>"
   ]
  }
 ],
 "metadata": {
  "kernelspec": {
   "display_name": "Python 3",
   "language": "python",
   "name": "python3"
  },
  "language_info": {
   "codemirror_mode": {
    "name": "ipython",
    "version": 3
   },
   "file_extension": ".py",
   "mimetype": "text/x-python",
   "name": "python",
   "nbconvert_exporter": "python",
   "pygments_lexer": "ipython3",
   "version": "3.8.5"
  }
 },
 "nbformat": 4,
 "nbformat_minor": 4
}

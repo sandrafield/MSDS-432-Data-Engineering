{
 "cells": [
  {
   "cell_type": "markdown",
   "metadata": {},
   "source": [
    "<h1>Sandra Field </h1>\n",
    "MSDS 432, Dr Ali <br>\n",
    "Spring 2021<br>\n",
    "<h3>Implement and Time Selection Sort Algorithm</h3><br>"
   ]
  },
  {
   "cell_type": "code",
   "execution_count": 1,
   "metadata": {},
   "outputs": [],
   "source": [
    "import math\n",
    "from scipy import stats\n",
    "import numpy as np\n",
    "import pandas as pd\n",
    "import time\n",
    "import timeit\n",
    "from time import perf_counter, perf_counter_ns\n",
    "from random import shuffle\n",
    "from random import seed\n",
    "from random import random\n",
    "import matplotlib.pyplot as plt\n",
    "#import matplotlib.style as style\n",
    "import seaborn as sns\n",
    "%matplotlib inline\n",
    "\n",
    "sns.set_style('white')\n"
   ]
  },
  {
   "cell_type": "markdown",
   "metadata": {},
   "source": [
    "<h2>Sort Algorithm</h2>"
   ]
  },
  {
   "cell_type": "code",
   "execution_count": 2,
   "metadata": {},
   "outputs": [],
   "source": [
    "# Finds the smallest value in an array. Code taken from Grokking Algorithms book\n",
    "def findSmallest(arr):\n",
    "  # Stores the smallest value\n",
    "  smallest = arr[0]\n",
    "  # Stores the index of the smallest value\n",
    "  smallest_index = 0\n",
    "  for i in range(1, len(arr)):\n",
    "    if arr[i] < smallest:\n",
    "      smallest_index = i\n",
    "      smallest = arr[i]      \n",
    "  return smallest_index"
   ]
  },
  {
   "cell_type": "code",
   "execution_count": 3,
   "metadata": {},
   "outputs": [
    {
     "name": "stdout",
     "output_type": "stream",
     "text": [
      "[2, 3, 5, 6, 10]\n"
     ]
    }
   ],
   "source": [
    "# Sort array\n",
    "def selectionSort(arr):\n",
    "  newArr = []\n",
    "  for i in range(len(arr)):\n",
    "      # Finds the smallest element in the array and adds it to the new array\n",
    "      smallest = findSmallest(arr)\n",
    "      newArr.append(arr.pop(smallest))\n",
    "  return newArr\n",
    "\n",
    "print(selectionSort([5, 3, 6, 2, 10]))"
   ]
  },
  {
   "cell_type": "markdown",
   "metadata": {},
   "source": [
    "<h2>Time Tracking Function</h2>"
   ]
  },
  {
   "cell_type": "code",
   "execution_count": 4,
   "metadata": {},
   "outputs": [],
   "source": [
    "#A time tracking function\n",
    "\n",
    "def elapsed(func):\n",
    "    time_start = perf_counter_ns()\n",
    "    func()\n",
    "    time_stop = perf_counter_ns()\n",
    "    return ((time_stop - time_start) / 1000000) #convert from ns to ms"
   ]
  },
  {
   "cell_type": "markdown",
   "metadata": {},
   "source": [
    "<h2>Create and Sort Data</h2>"
   ]
  },
  {
   "cell_type": "code",
   "execution_count": 5,
   "metadata": {},
   "outputs": [],
   "source": [
    "# Create the output metrics DataFrame\n",
    "results = pd.DataFrame(columns = ['Array Length', 'Elapsed Time (ms)'])"
   ]
  },
  {
   "cell_type": "code",
   "execution_count": 6,
   "metadata": {},
   "outputs": [],
   "source": [
    "for i in range(1,6):\n",
    "    #Create arrays per size requirements\n",
    "    array_size = 5000*(i) \n",
    "    \n",
    "    \n",
    "    arrx = []  #initialize new array \n",
    "    arrx = list(np.unique(np.random.uniform(1,1000, array_size))) #this will ensure no duplicates, but sorts data\n",
    "    shuffle(arrx) #unsort data so we can sort later\n",
    "    \n",
    "    sort_time = elapsed(lambda: selectionSort(arrx))\n",
    "    \n",
    "    results.loc[i] = [array_size, sort_time]\n",
    "                    "
   ]
  },
  {
   "cell_type": "markdown",
   "metadata": {},
   "source": [
    "<h1>Results</h1>"
   ]
  },
  {
   "cell_type": "code",
   "execution_count": 7,
   "metadata": {},
   "outputs": [
    {
     "data": {
      "text/html": [
       "<div>\n",
       "<style scoped>\n",
       "    .dataframe tbody tr th:only-of-type {\n",
       "        vertical-align: middle;\n",
       "    }\n",
       "\n",
       "    .dataframe tbody tr th {\n",
       "        vertical-align: top;\n",
       "    }\n",
       "\n",
       "    .dataframe thead th {\n",
       "        text-align: right;\n",
       "    }\n",
       "</style>\n",
       "<table border=\"1\" class=\"dataframe\">\n",
       "  <thead>\n",
       "    <tr style=\"text-align: right;\">\n",
       "      <th></th>\n",
       "      <th>Array Length</th>\n",
       "      <th>Elapsed Time (ms)</th>\n",
       "    </tr>\n",
       "  </thead>\n",
       "  <tbody>\n",
       "    <tr>\n",
       "      <th>1</th>\n",
       "      <td>5000.0</td>\n",
       "      <td>664.9282</td>\n",
       "    </tr>\n",
       "    <tr>\n",
       "      <th>2</th>\n",
       "      <td>10000.0</td>\n",
       "      <td>2646.4801</td>\n",
       "    </tr>\n",
       "    <tr>\n",
       "      <th>3</th>\n",
       "      <td>15000.0</td>\n",
       "      <td>5990.1842</td>\n",
       "    </tr>\n",
       "    <tr>\n",
       "      <th>4</th>\n",
       "      <td>20000.0</td>\n",
       "      <td>11058.3412</td>\n",
       "    </tr>\n",
       "    <tr>\n",
       "      <th>5</th>\n",
       "      <td>25000.0</td>\n",
       "      <td>17259.6518</td>\n",
       "    </tr>\n",
       "  </tbody>\n",
       "</table>\n",
       "</div>"
      ],
      "text/plain": [
       "   Array Length  Elapsed Time (ms)\n",
       "1        5000.0           664.9282\n",
       "2       10000.0          2646.4801\n",
       "3       15000.0          5990.1842\n",
       "4       20000.0         11058.3412\n",
       "5       25000.0         17259.6518"
      ]
     },
     "execution_count": 7,
     "metadata": {},
     "output_type": "execute_result"
    }
   ],
   "source": [
    "results"
   ]
  },
  {
   "cell_type": "code",
   "execution_count": 11,
   "metadata": {},
   "outputs": [
    {
     "data": {
      "image/png": "[encoded data removed]",
      "text/plain": [
       "<Figure size 576x360 with 1 Axes>"
      ]
     },
     "metadata": {},
     "output_type": "display_data"
    }
   ],
   "source": [
    "ax = results.plot.line(x='Array Length', figsize=(8,5), fontsize=13, marker='o', legend=False)\n",
    "ax.set_title('Array Length vs Sort Times (ms)',fontsize= 22)\n",
    "ax.set_xlabel('Array Length',fontsize=16)\n",
    "plt.xticks(rotation=45)\n",
    "ax.set_ylabel('Elapsed Time (ms)',fontsize=16)\n",
    "#ax.set_xticks([512, 1024, 2048, 4096, 8192]) #This looks very distorted on the graph\n",
    "sns.despine()\n",
    "plt.show()"
   ]
  },
  {
   "cell_type": "markdown",
   "metadata": {},
   "source": [
    "<h1>Summary</h1>"
   ]
  },
  {
   "cell_type": "markdown",
   "metadata": {},
   "source": [
    "<p style=\"font-size:18px;color:#57595D; font-weight:normal; font-style:normal;font-family: 'Verdana'\">\n",
    "          This selection sort works by finding the minimum value with a simple linear search then adding that value to storage in the first element.  Next, it finds the second smallest value with another simple linear search, and adds that value to storage in the second element. The algorightm repeats this processes until all values in the array have been \"found\" and added to storage in their appropriate element location, which is in order of least to greatest in this case.</p>\n",
    "\n",
    "<p style=\"font-size:18px;color:#57595D; font-weight:normal; font-style:normal;font-family: 'Verdana'\">\n",
    "    Each element requires a simple search, which takes <span style=\"color: red;\"><b> O(n) </b></span> time.  This search will run <span style=\"color: red;\"><b>n </b></span> times until everything is sorted.  Therefore, the maximum time a selection sort might take would be <span style=\"color: red;\"><b> (O(n) * n) </b></span> time or <em style=\"color: red;\"><b>O(n)<sup>2 </sup> </b></em>time. </p>\n",
    "    \n",
    "<p style=\"font-size:18px;color:#57595D; font-weight:normal; font-style:normal;font-family: 'Verdana'\">\n",
    "    The importance of sorting data is neverending, including sorting with selection sort. It can help organize data for presentations, like ranking which business items sold the most or least, or ranking which departments had more or less employee turnover.  It can also help us to reduce future data access or search time, because it's easier for both humans and computers to know where something is if it resides within a pattern of some kind. For example, if numbers are shown in ascending order, we know we won't see 10 after 100 is presented.</p>"
   ]
  }
 ],
 "metadata": {
  "kernelspec": {
   "display_name": "Python 3",
   "language": "python",
   "name": "python3"
  },
  "language_info": {
   "codemirror_mode": {
    "name": "ipython",
    "version": 3
   },
   "file_extension": ".py",
   "mimetype": "text/x-python",
   "name": "python",
   "nbconvert_exporter": "python",
   "pygments_lexer": "ipython3",
   "version": "3.8.5"
  }
 },
 "nbformat": 4,
 "nbformat_minor": 4
}

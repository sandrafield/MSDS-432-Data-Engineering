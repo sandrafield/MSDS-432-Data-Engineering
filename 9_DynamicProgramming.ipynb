{
 "cells": [
  {
   "cell_type": "markdown",
   "metadata": {},
   "source": [
    "<h1>Sandra Field </h1>\n",
    "MSDS 432, Dr Ali <br>\n",
    "Spring 2021\n",
    "<h2>Dynamic Programming - Knapsack Problem</h2><br>"
   ]
  },
  {
   "cell_type": "code",
   "execution_count": 3,
   "metadata": {},
   "outputs": [],
   "source": [
    "from scipy import stats\n",
    "import numpy as np\n",
    "import pandas as pd\n",
    "\n",
    "#Graphics\n",
    "import matplotlib.pyplot as plt\n",
    "import matplotlib.style as style\n",
    "import seaborn as sns\n",
    "%matplotlib inline\n",
    "sns.set_style('white')\n",
    "#style.use('seaborn-poster')\n",
    "from IPython.display import HTML\n"
   ]
  },
  {
   "cell_type": "markdown",
   "metadata": {},
   "source": [
    "<h1>Algorithm</h1>"
   ]
  },
  {
   "cell_type": "code",
   "execution_count": 64,
   "metadata": {
    "scrolled": true
   },
   "outputs": [
    {
     "name": "stdout",
     "output_type": "stream",
     "text": [
      "\n",
      "The maximum value that can be put in the knapsack is:  220 \n",
      "\n",
      "\n",
      " The matrix created is: \n",
      "\n",
      "\n",
      " [[0, 0, 0, 0, 0, 0, 0, 0, 0, 0, 0, 0, 0, 0, 0, 0, 0, 0, 0, 0, 0, 0, 0, 0, 0, 0, 0, 0, 0, 0, 0, 0, 0, 0, 0, 0, 0, 0, 0, 0, 0, 0, 0, 0, 0, 0, 0, 0, 0, 0, 0], [0, 0, 0, 0, 0, 0, 0, 0, 0, 0, 60, 60, 60, 60, 60, 60, 60, 60, 60, 60, 60, 60, 60, 60, 60, 60, 60, 60, 60, 60, 60, 60, 60, 60, 60, 60, 60, 60, 60, 60, 60, 60, 60, 60, 60, 60, 60, 60, 60, 60, 60], [0, 0, 0, 0, 0, 0, 0, 0, 0, 0, 60, 60, 60, 60, 60, 60, 60, 60, 60, 60, 100, 100, 100, 100, 100, 100, 100, 100, 100, 100, 160, 160, 160, 160, 160, 160, 160, 160, 160, 160, 160, 160, 160, 160, 160, 160, 160, 160, 160, 160, 160], [0, 0, 0, 0, 0, 0, 0, 0, 0, 0, 60, 60, 60, 60, 60, 60, 60, 60, 60, 60, 100, 100, 100, 100, 100, 100, 100, 100, 100, 100, 160, 160, 160, 160, 160, 160, 160, 160, 160, 160, 180, 180, 180, 180, 180, 180, 180, 180, 180, 180, 220]]\n"
     ]
    }
   ],
   "source": [
    "# A Dynamic Programming based Python\n",
    "# Program for 0-1 Knapsack problem\n",
    "# Returns the maximum value that can\n",
    "# be put in a knapsack of capacity W\n",
    "\n",
    "\n",
    "def knapSack(W, wt, val, n):\n",
    "\tK = [[0 for x in range(W + 1)] for x in range(n + 1)]\n",
    "\n",
    "\t# Build table K[][] in bottom up manner\n",
    "\tfor i in range(n + 1):\n",
    "\t\tfor w in range(W + 1):\n",
    "\t\t\tif i == 0 or w == 0:\n",
    "\t\t\t\tK[i][w] = 0\n",
    "\t\t\telif wt[i-1] <= w:\n",
    "\t\t\t\tK[i][w] = max(val[i-1]\n",
    "\t\t\t\t\t\t+ K[i-1][w-wt[i-1]],\n",
    "\t\t\t\t\t\t\tK[i-1][w])\n",
    "\t\t\telse:\n",
    "\t\t\t\tK[i][w] = K[i-1][w]\n",
    "\treturn (K[n][W], K)\n",
    "\n",
    "answer=0\n",
    "# Driver code\n",
    "val = [60, 100, 120]  #Values or Costs of items\n",
    "wt = [10, 20, 30] # Weights of items\n",
    "W = 50  # Knapsack capacity\n",
    "n = len(val) # numver of wt elements\n",
    "\n",
    "answer, K = knapSack(W, wt, val, n)\n",
    "print(\"\\nThe maximum value that can be put in the knapsack is: \",answer,\"\\n\\n\\n\",\\\n",
    "      \"The matrix created is: \\n\\n\\n\",K)\n",
    "\n",
    "\n",
    "# This code is contributed by Bhavya Jain\n",
    "# Code obtained from https://www.geeksforgeeks.org/0-1-knapsack-problem-dp-10/\n",
    "# Future studies will include https://www.geeksforgeeks.org/edit-distance-dp-5/\n",
    "#https://www.geeksforgeeks.org/longest-common-subsequence-dp-4/"
   ]
  },
  {
   "cell_type": "markdown",
   "metadata": {},
   "source": [
    "<h2>Adding an Object - Higher Value and Lesser Weight</h2>"
   ]
  },
  {
   "cell_type": "code",
   "execution_count": 67,
   "metadata": {},
   "outputs": [
    {
     "name": "stdout",
     "output_type": "stream",
     "text": [
      "\n",
      "The maximum value that can be put in the knapsack is:  380 \n",
      "\n",
      "\n",
      " The matrix created is: \n",
      "\n",
      "\n",
      " [[0, 0, 0, 0, 0, 0, 0, 0, 0, 0, 0, 0, 0, 0, 0, 0, 0, 0, 0, 0, 0, 0, 0, 0, 0, 0, 0, 0, 0, 0, 0, 0, 0, 0, 0, 0, 0, 0, 0, 0, 0, 0, 0, 0, 0, 0, 0, 0, 0, 0, 0], [0, 0, 0, 0, 0, 0, 0, 0, 0, 0, 60, 60, 60, 60, 60, 60, 60, 60, 60, 60, 60, 60, 60, 60, 60, 60, 60, 60, 60, 60, 60, 60, 60, 60, 60, 60, 60, 60, 60, 60, 60, 60, 60, 60, 60, 60, 60, 60, 60, 60, 60], [0, 0, 0, 0, 0, 0, 0, 0, 0, 0, 60, 60, 60, 60, 60, 60, 60, 60, 60, 60, 100, 100, 100, 100, 100, 100, 100, 100, 100, 100, 160, 160, 160, 160, 160, 160, 160, 160, 160, 160, 160, 160, 160, 160, 160, 160, 160, 160, 160, 160, 160], [0, 0, 0, 0, 0, 0, 0, 0, 0, 0, 60, 60, 60, 60, 60, 60, 60, 60, 60, 60, 100, 100, 100, 100, 100, 100, 100, 100, 100, 100, 160, 160, 160, 160, 160, 160, 160, 160, 160, 160, 180, 180, 180, 180, 180, 180, 180, 180, 180, 180, 220], [0, 0, 0, 0, 0, 0, 0, 0, 0, 0, 200, 200, 200, 200, 200, 200, 200, 200, 200, 200, 260, 260, 260, 260, 260, 260, 260, 260, 260, 260, 300, 300, 300, 300, 300, 300, 300, 300, 300, 300, 360, 360, 360, 360, 360, 360, 360, 360, 360, 360, 380]]\n"
     ]
    }
   ],
   "source": [
    "answer=0\n",
    "# Driver code\n",
    "val = [60, 100, 120, 200]  #Values or Costs of items\n",
    "wt = [10, 20, 30, 10] # Weights of items\n",
    "W = 50  # Knapsack capacity\n",
    "n = len(val)\n",
    "\n",
    "answer, K = knapSack(W, wt, val, n)\n",
    "print(\"\\nThe maximum value that can be put in the knapsack is: \",answer,\"\\n\\n\\n\",\\\n",
    "      \"The matrix created is: \\n\\n\\n\",K)"
   ]
  },
  {
   "cell_type": "markdown",
   "metadata": {},
   "source": [
    "<h2>Adding an Object - Lesser Value and Higher Weight</h2>"
   ]
  },
  {
   "cell_type": "code",
   "execution_count": 73,
   "metadata": {
    "scrolled": true
   },
   "outputs": [
    {
     "name": "stdout",
     "output_type": "stream",
     "text": [
      "\n",
      "The maximum value that can be put in the knapsack is:  230 \n",
      "\n",
      "\n",
      " The matrix created is: \n",
      "\n",
      "\n",
      " [[0, 0, 0, 0, 0, 0, 0, 0, 0, 0, 0, 0, 0, 0, 0, 0, 0, 0, 0, 0, 0, 0, 0, 0, 0, 0, 0, 0, 0, 0, 0, 0, 0, 0, 0, 0, 0, 0, 0, 0, 0, 0, 0, 0, 0, 0, 0, 0, 0, 0, 0], [0, 0, 0, 0, 0, 0, 0, 0, 50, 50, 50, 50, 50, 50, 50, 50, 50, 50, 50, 50, 50, 50, 50, 50, 50, 50, 50, 50, 50, 50, 50, 50, 50, 50, 50, 50, 50, 50, 50, 50, 50, 50, 50, 50, 50, 50, 50, 50, 50, 50, 50], [0, 0, 0, 0, 0, 0, 0, 0, 50, 50, 60, 60, 60, 60, 60, 60, 60, 60, 110, 110, 110, 110, 110, 110, 110, 110, 110, 110, 110, 110, 110, 110, 110, 110, 110, 110, 110, 110, 110, 110, 110, 110, 110, 110, 110, 110, 110, 110, 110, 110, 110], [0, 0, 0, 0, 0, 0, 0, 0, 50, 50, 60, 60, 60, 60, 60, 60, 60, 60, 110, 110, 110, 110, 110, 110, 110, 110, 110, 110, 150, 150, 160, 160, 160, 160, 160, 160, 160, 160, 210, 210, 210, 210, 210, 210, 210, 210, 210, 210, 210, 210, 210], [0, 0, 0, 0, 0, 0, 0, 0, 50, 50, 60, 60, 60, 60, 60, 60, 60, 60, 110, 110, 110, 110, 110, 110, 110, 110, 110, 110, 150, 150, 160, 160, 160, 160, 160, 160, 160, 160, 210, 210, 210, 210, 210, 210, 210, 210, 210, 210, 230, 230, 230]]\n"
     ]
    }
   ],
   "source": [
    "answer=0\n",
    "# Driver code\n",
    "val = [50, 60, 100, 120]  #Values or Costs of items\n",
    "wt = [8, 10, 20, 30] # Weights of items\n",
    "W = 50  # Knapsack capacity\n",
    "n = len(val)\n",
    "\n",
    "answer, K = knapSack(W, wt, val, n)\n",
    "print(\"\\nThe maximum value that can be put in the knapsack is: \",answer,\"\\n\\n\\n\",\\\n",
    "      \"The matrix created is: \\n\\n\\n\",K)"
   ]
  },
  {
   "cell_type": "markdown",
   "metadata": {},
   "source": [
    "<h1>Reducing Weight Capacity</h1>"
   ]
  },
  {
   "cell_type": "code",
   "execution_count": 86,
   "metadata": {},
   "outputs": [
    {
     "name": "stdout",
     "output_type": "stream",
     "text": [
      "\n",
      "At a capacity of  10  lbs,\n",
      "The maximum value that can be put in the knapsack is:  60 \n",
      "\n",
      "\n",
      " The matrix created is: \n",
      "\n",
      " [[0, 0, 0, 0, 0, 0, 0, 0, 0, 0, 0], [0, 0, 0, 0, 0, 0, 0, 0, 0, 0, 60], [0, 0, 0, 0, 0, 0, 0, 0, 0, 0, 60], [0, 0, 0, 0, 0, 0, 0, 0, 0, 0, 60]]\n"
     ]
    }
   ],
   "source": [
    "answer=0\n",
    "# Driver code\n",
    "val = [60, 100, 120]  #Values or Costs of items\n",
    "wt = [10, 20, 30] # Weights of items\n",
    "W = 10  # Knapsack capacity\n",
    "n = len(val)\n",
    "\n",
    "answer, K = knapSack(W, wt, val, n)\n",
    "print(\"\\nAt a capacity of \", W,\" lbs,\\nThe maximum value that can be put in the knapsack is: \",answer,\"\\n\\n\\n\",\\\n",
    "      \"The matrix created is: \\n\\n\",K)\n"
   ]
  },
  {
   "cell_type": "markdown",
   "metadata": {},
   "source": [
    "<h1>Increasing Weight Capacity</h1>"
   ]
  },
  {
   "cell_type": "code",
   "execution_count": 89,
   "metadata": {},
   "outputs": [
    {
     "name": "stdout",
     "output_type": "stream",
     "text": [
      "\n",
      "At a capacity of  100  lbs,\n",
      "The maximum value that can be put in the knapsack is:  280 \n",
      "\n",
      "\n",
      " The matrix created is: \n",
      "\n",
      "\n",
      " [[0, 0, 0, 0, 0, 0, 0, 0, 0, 0, 0, 0, 0, 0, 0, 0, 0, 0, 0, 0, 0, 0, 0, 0, 0, 0, 0, 0, 0, 0, 0, 0, 0, 0, 0, 0, 0, 0, 0, 0, 0, 0, 0, 0, 0, 0, 0, 0, 0, 0, 0, 0, 0, 0, 0, 0, 0, 0, 0, 0, 0, 0, 0, 0, 0, 0, 0, 0, 0, 0, 0, 0, 0, 0, 0, 0, 0, 0, 0, 0, 0, 0, 0, 0, 0, 0, 0, 0, 0, 0, 0, 0, 0, 0, 0, 0, 0, 0, 0, 0, 0], [0, 0, 0, 0, 0, 0, 0, 0, 0, 0, 60, 60, 60, 60, 60, 60, 60, 60, 60, 60, 60, 60, 60, 60, 60, 60, 60, 60, 60, 60, 60, 60, 60, 60, 60, 60, 60, 60, 60, 60, 60, 60, 60, 60, 60, 60, 60, 60, 60, 60, 60, 60, 60, 60, 60, 60, 60, 60, 60, 60, 60, 60, 60, 60, 60, 60, 60, 60, 60, 60, 60, 60, 60, 60, 60, 60, 60, 60, 60, 60, 60, 60, 60, 60, 60, 60, 60, 60, 60, 60, 60, 60, 60, 60, 60, 60, 60, 60, 60, 60, 60], [0, 0, 0, 0, 0, 0, 0, 0, 0, 0, 60, 60, 60, 60, 60, 60, 60, 60, 60, 60, 100, 100, 100, 100, 100, 100, 100, 100, 100, 100, 160, 160, 160, 160, 160, 160, 160, 160, 160, 160, 160, 160, 160, 160, 160, 160, 160, 160, 160, 160, 160, 160, 160, 160, 160, 160, 160, 160, 160, 160, 160, 160, 160, 160, 160, 160, 160, 160, 160, 160, 160, 160, 160, 160, 160, 160, 160, 160, 160, 160, 160, 160, 160, 160, 160, 160, 160, 160, 160, 160, 160, 160, 160, 160, 160, 160, 160, 160, 160, 160, 160], [0, 0, 0, 0, 0, 0, 0, 0, 0, 0, 60, 60, 60, 60, 60, 60, 60, 60, 60, 60, 100, 100, 100, 100, 100, 100, 100, 100, 100, 100, 160, 160, 160, 160, 160, 160, 160, 160, 160, 160, 180, 180, 180, 180, 180, 180, 180, 180, 180, 180, 220, 220, 220, 220, 220, 220, 220, 220, 220, 220, 280, 280, 280, 280, 280, 280, 280, 280, 280, 280, 280, 280, 280, 280, 280, 280, 280, 280, 280, 280, 280, 280, 280, 280, 280, 280, 280, 280, 280, 280, 280, 280, 280, 280, 280, 280, 280, 280, 280, 280, 280]]\n"
     ]
    }
   ],
   "source": [
    "answer=0\n",
    "# Driver code\n",
    "val = [60, 100, 120]  #Values or Costs of items\n",
    "wt = [10, 20, 30] # Weights of items\n",
    "W = 100  # Knapsack capacity\n",
    "n = len(val)\n",
    "\n",
    "answer, K = knapSack(W, wt, val, n)\n",
    "print(\"\\nAt a capacity of \", W,\" lbs,\\nThe maximum value that can be put in the knapsack is: \",answer,\"\\n\\n\\n\",\\\n",
    "      \"The matrix created is: \\n\\n\\n\",K)\n"
   ]
  },
  {
   "cell_type": "markdown",
   "metadata": {},
   "source": [
    "<h1>Summary</h1>\n",
    "<h2>Dynamic Programming</h2>\n",
    "  <p>  This dynamic programming technique divides the problem into subproblems, which each further divide into more subproblems, until it reaches the most basic subproblems which are easily solved.  This is similar to factoring long polynomials, then solving the main large algebraic equation by solving each small factor.  A matrix is created with solutions to the mini-problems, and this is used to solve the main larger problem of getting the overall highest cost items with the lowest overall weights.  This approach avoids re-computation of the same subproblems by using a temporary array, K[ ][ ] in a bottom-up manner.  The <b><i> -i- </b></i>and <b><i>-w- for loops</b></i> make sure no subproblem is repeated and keep the problem moving forward. </p>\n",
    "<p>\n",
    "Time Complexity: <b><i>O(N*W)</b></i> <br>\n",
    "N = number of weight elements<br>\n",
    "W = capacity<br>\n",
    "<br>    \n",
    "For every weight element we traverse through all weight capacities between 1 <= w <= W.<br>\n",
    "Auxiliary Space: <b><i>O(N*W)</b></i>  <br>\n",
    "Space used: 2-D array of size <b><i>O(N*W)</b></i> <br>\n",
    "\n",
    "\n",
    "Columns = These are each of the weights, 1 to W <br>\n",
    "Rows = The weights that can be kept<br>\n",
    "K[ i ][ j ] = denotes maximum value of j-weight considering all values from \"1 to ith\"\n",
    "</p>\n",
    "<h2>In Comparison to Other Solutions</h2>\n",
    "<p>There are other ways to do this that do not use dynamic programming, like recursion which computes the same subproblems over and over.  The time complexity for this naive recursive solution is<b><i> O(2^n)</b></i>. The auxillary space requirement is O(1), because only one structure is needed to store all the values. Another technique is brute force, or Memoization Technique, which is an extension of the recursion approach.  If it finds a precalculated entry, it just returns the precalculated results.  It's likely slower than dynamic programming though, because it still has to deal with each subproblem multiple times even if its not actually calculating a second time.  Therefore, the time complexity is <b><i> O(N*W)</b></i>, and the auxillary space requirement is <b><i> O(N*W)</b></i>\n",
    "    Dynamic programming is faster, because there are no repeat operations."
   ]
  }
 ],
 "metadata": {
  "kernelspec": {
   "display_name": "Python 3",
   "language": "python",
   "name": "python3"
  },
  "language_info": {
   "codemirror_mode": {
    "name": "ipython",
    "version": 3
   },
   "file_extension": ".py",
   "mimetype": "text/x-python",
   "name": "python",
   "nbconvert_exporter": "python",
   "pygments_lexer": "ipython3",
   "version": "3.8.5"
  }
 },
 "nbformat": 4,
 "nbformat_minor": 4
}

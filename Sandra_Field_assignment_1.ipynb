{
 "cells": [
  {
   "cell_type": "markdown",
   "metadata": {},
   "source": [
    "<h1>Sandra Field </h1>\n",
    "MSDS 432, Dr Ali <br>\n",
    "Spring 2021<br>\n",
    "Comparing Search Algorithms<br>"
   ]
  },
  {
   "cell_type": "code",
   "execution_count": 130,
   "metadata": {},
   "outputs": [],
   "source": [
    "import math\n",
    "from scipy import stats\n",
    "import numpy as np\n",
    "import pandas as pd\n",
    "import time\n",
    "import timeit\n",
    "from time import perf_counter, perf_counter_ns\n",
    "from random import seed\n",
    "from random import random\n",
    "import matplotlib.pyplot as plt\n",
    "#import matplotlib.style as style\n",
    "import seaborn as sns\n",
    "%matplotlib inline\n",
    "\n",
    "sns.set_style('white')\n"
   ]
  },
  {
   "cell_type": "markdown",
   "metadata": {},
   "source": [
    "<h1>Exploration</h1>"
   ]
  },
  {
   "cell_type": "code",
   "execution_count": 76,
   "metadata": {},
   "outputs": [],
   "source": [
    "# Below are five arrays, each of length 512, 1024, 2048, 4096,\n",
    "# and 8192 containing randomly generated uniformly distributed \n",
    "# integers from 1 to 10000, sorted from smallest to largest\n",
    "\n",
    "np.random.seed(42)\n",
    "arr1 = sorted(np.random.uniform(1,1000,512).astype(int))\n",
    "arr2 = sorted(np.random.uniform(1,1000,1024).astype(int))\n",
    "arr3 = sorted(np.random.uniform(1,1000,2048).astype(int))\n",
    "arr4 = sorted(np.random.uniform(1,1000,4096).astype(int))\n",
    "arr5 = sorted(np.random.uniform(1,1000,8192).astype(int))"
   ]
  },
  {
   "cell_type": "code",
   "execution_count": 78,
   "metadata": {},
   "outputs": [
    {
     "name": "stdout",
     "output_type": "stream",
     "text": [
      "Array 1\n",
      " [6, 6, 7, 10, 11, 12, 13, 15, 16, 17, 19, 21, 24, 25, 26, 26, 27, 31, 32, 35]\n",
      "Array 2\n",
      " [5, 5, 6, 7, 8, 10, 11, 12, 13, 14, 15, 18, 19, 19, 19, 20, 21, 22, 23, 23]\n",
      "Array 3\n",
      " [1, 1, 2, 2, 2, 2, 4, 4, 5, 6, 6, 6, 8, 8, 9, 9, 9, 10, 10, 10]\n",
      "Array 4\n",
      " [1, 1, 1, 1, 1, 1, 1, 2, 2, 2, 4, 4, 4, 5, 6, 7, 7, 7, 7, 7]\n",
      "Array 5\n",
      " [1, 1, 1, 1, 1, 1, 1, 1, 1, 1, 1, 2, 2, 2, 2, 2, 2, 3, 3, 3]\n"
     ]
    }
   ],
   "source": [
    "#View sample data. Looks like we have MANY duplicates, but it's because \n",
    "#the arrays are larger than the population data\n",
    "\n",
    "print(\"Array 1\\n\",arr1[0:20])\n",
    "print(\"Array 2\\n\",arr2[0:20])\n",
    "print(\"Array 3\\n\",arr3[0:20])\n",
    "print(\"Array 4\\n\",arr4[0:20])\n",
    "print(\"Array 5\\n\",arr5[0:20])"
   ]
  },
  {
   "cell_type": "code",
   "execution_count": 144,
   "metadata": {},
   "outputs": [],
   "source": [
    "def binary_search(mylist, item):\n",
    "    #print(\"\\nFull search set is {0}\\n\".format(mylist))  \n",
    "    \n",
    "    # low and high keep track of which part of the list you'll search in.\n",
    "    low_idx = 0\n",
    "    high_idx = len(mylist) - 1\n",
    "\n",
    "    ## Added by Lance\n",
    "    counter = 0\n",
    "    ## Added by Lance\n",
    "\n",
    "    # While you haven't narrowed it down to one element ...\n",
    "    while low_idx <= high_idx:\n",
    "        # ... check the middle element\n",
    "        mid_idx = (low_idx + high_idx) // 2\n",
    "        guess = mylist[mid_idx]\n",
    "\n",
    "        counter = counter + 1\n",
    "\n",
    "        # Found the item.\n",
    "        if guess == item:\n",
    "            return mid_idx\n",
    "        # The guess was too high.\n",
    "        if guess > item:\n",
    "            high_idx = mid_idx - 1\n",
    "        # The guess was too low.\n",
    "        else:\n",
    "            low_idx = mid_idx + 1\n",
    "\n",
    "        ## Added by Lance\n",
    "        #print(\"counter: {0}\\nmid index: {1}\\nmid value: {2}\\nNew search set is now {3} to {4}\\n\".\\\n",
    "         #     format(counter, mid_idx, mylist[mid_idx], mylist[low_idx], mylist[high_idx+1]))\n",
    "        ## Added by Lance\n",
    "\n",
    "  # Item doesn't exist\n",
    "    return None"
   ]
  },
  {
   "cell_type": "code",
   "execution_count": 145,
   "metadata": {},
   "outputs": [],
   "source": [
    "def linear_search(mylist, item):\n",
    "    i = 0\n",
    "    while i < len(mylist):\n",
    "        if mylist[i] == item:\n",
    "            return i\n",
    "        else:\n",
    "            i = i + 1\n",
    "        ## Added by Lance\n",
    "        #print(\"counter {0}\\nNew search set is {1} numbers\\n\".format(i, len(list[i:]))\n",
    "        ## Added by Lance\n",
    "        \n",
    "    return None"
   ]
  },
  {
   "cell_type": "code",
   "execution_count": 91,
   "metadata": {},
   "outputs": [
    {
     "name": "stdout",
     "output_type": "stream",
     "text": [
      "0.6712062358856201\n"
     ]
    }
   ],
   "source": [
    "#Lets compare sort methods and pick one\n",
    "start_time = time.time()\n",
    "set2 = np.sort(np.random.randint(0, 10000000, 10000000))\n",
    "end_time = time.time()\n",
    "print(end_time - start_time)\n",
    "\n"
   ]
  },
  {
   "cell_type": "code",
   "execution_count": 92,
   "metadata": {},
   "outputs": [
    {
     "name": "stdout",
     "output_type": "stream",
     "text": [
      "6.4323484897613525\n"
     ]
    }
   ],
   "source": [
    "#Sorted() takes MUCH longer than np.sort. \n",
    "\n",
    "start_time = time.time()\n",
    "set2 = sorted(np.random.randint(0, 10000000, 10000000))\n",
    "end_time = time.time()\n",
    "print(end_time - start_time)"
   ]
  },
  {
   "cell_type": "code",
   "execution_count": 73,
   "metadata": {},
   "outputs": [
    {
     "name": "stdout",
     "output_type": "stream",
     "text": [
      "\n",
      "Full search set is [6, 6, 7, 10, 11, 12, 13, 15, 16, 17, 19, 21, 24, 25, 26, 26, 27, 31, 32, 35, 36, 37, 38, 41, 41, 44, 46, 46, 46, 46, 47, 52, 52, 57, 58, 59, 64, 65, 70, 71, 72, 73, 74, 74, 75, 77, 78, 79, 82, 84, 85, 85, 85, 86, 89, 91, 92, 92, 94, 94, 94, 95, 98, 98, 98, 101, 102, 102, 104, 108, 110, 112, 114, 116, 116, 117, 118, 119, 119, 120, 120, 122, 127, 138, 140, 140, 141, 143, 145, 156, 156, 157, 161, 162, 162, 163, 163, 170, 171, 174, 174, 175, 177, 178, 182, 184, 185, 187, 187, 188, 196, 196, 196, 199, 200, 213, 216, 222, 224, 225, 227, 228, 229, 238, 238, 240, 242, 242, 244, 248, 250, 250, 252, 258, 259, 265, 271, 272, 278, 279, 280, 281, 281, 281, 282, 282, 285, 286, 287, 290, 291, 292, 293, 294, 295, 301, 304, 305, 310, 311, 312, 315, 317, 318, 319, 319, 320, 321, 323, 323, 325, 326, 326, 329, 331, 338, 338, 339, 341, 341, 349, 351, 353, 356, 357, 359, 360, 360, 364, 366, 368, 368, 370, 371, 372, 374, 375, 375, 375, 376, 376, 385, 386, 387, 388, 389, 389, 393, 399, 409, 410, 413, 417, 418, 420, 424, 427, 428, 428, 429, 432, 434, 439, 440, 442, 448, 455, 456, 456, 458, 464, 466, 469, 472, 473, 474, 489, 492, 493, 493, 494, 494, 495, 497, 502, 503, 503, 503, 505, 509, 511, 511, 512, 514, 516, 518, 519, 520, 522, 523, 523, 525, 528, 530, 531, 536, 536, 539, 541, 543, 543, 546, 547, 549, 549, 549, 554, 554, 555, 557, 558, 561, 568, 570, 573, 575, 577, 578, 583, 584, 584, 586, 591, 591, 592, 598, 599, 601, 606, 607, 609, 612, 612, 613, 615, 616, 618, 620, 623, 623, 626, 627, 629, 629, 631, 632, 632, 633, 633, 633, 635, 636, 637, 637, 642, 642, 643, 645, 645, 649, 649, 650, 652, 657, 659, 660, 660, 662, 663, 672, 672, 677, 683, 684, 685, 691, 692, 696, 696, 696, 697, 697, 698, 701, 702, 702, 703, 703, 706, 707, 708, 712, 713, 714, 722, 725, 726, 726, 728, 729, 729, 732, 735, 738, 741, 746, 746, 750, 751, 752, 753, 754, 755, 758, 761, 761, 761, 770, 771, 771, 772, 775, 776, 777, 780, 785, 789, 791, 795, 795, 795, 798, 802, 803, 803, 807, 807, 808, 808, 809, 810, 812, 813, 814, 815, 817, 818, 822, 822, 822, 826, 828, 832, 835, 836, 845, 849, 851, 853, 855, 856, 858, 860, 863, 866, 867, 868, 871, 877, 877, 877, 887, 887, 887, 890, 890, 891, 892, 892, 894, 895, 896, 897, 897, 898, 900, 901, 902, 905, 905, 906, 907, 908, 909, 911, 913, 914, 921, 924, 928, 929, 930, 936, 936, 939, 940, 940, 941, 942, 947, 948, 949, 950, 950, 950, 950, 953, 954, 961, 962, 962, 962, 963, 963, 965, 966, 969, 969, 969, 969, 971, 973, 974, 975, 985, 986, 986, 986, 986, 990, 990, 992]\n",
      "\n",
      "counter: 1\n",
      "mid index: 255\n",
      "mid value: 518\n",
      "New search set is now 6 to 518\n",
      "\n",
      "counter: 2\n",
      "mid index: 127\n",
      "mid value: 242\n",
      "New search set is now 6 to 242\n",
      "\n",
      "counter: 3\n",
      "mid index: 63\n",
      "mid value: 98\n",
      "New search set is now 6 to 98\n",
      "\n",
      "counter: 4\n",
      "mid index: 31\n",
      "mid value: 52\n",
      "New search set is now 6 to 52\n",
      "\n",
      "counter: 5\n",
      "mid index: 15\n",
      "mid value: 26\n",
      "New search set is now 6 to 26\n",
      "\n",
      "counter: 6\n",
      "mid index: 7\n",
      "mid value: 15\n",
      "New search set is now 16 to 26\n",
      "\n",
      "counter: 7\n",
      "mid index: 11\n",
      "mid value: 21\n",
      "New search set is now 16 to 21\n",
      "\n",
      "9\n"
     ]
    }
   ],
   "source": [
    "#Lets test some numbers.  Is 17 in the list of numbers?\n",
    "print(binary_search(arr1, 17))\n",
    "\n"
   ]
  },
  {
   "cell_type": "code",
   "execution_count": 74,
   "metadata": {},
   "outputs": [
    {
     "name": "stdout",
     "output_type": "stream",
     "text": [
      "\n",
      "Full search set is [6, 6, 7, 10, 11, 12, 13, 15, 16, 17, 19, 21, 24, 25, 26, 26, 27, 31, 32, 35, 36, 37, 38, 41, 41, 44, 46, 46, 46, 46, 47, 52, 52, 57, 58, 59, 64, 65, 70, 71, 72, 73, 74, 74, 75, 77, 78, 79, 82, 84, 85, 85, 85, 86, 89, 91, 92, 92, 94, 94, 94, 95, 98, 98, 98, 101, 102, 102, 104, 108, 110, 112, 114, 116, 116, 117, 118, 119, 119, 120, 120, 122, 127, 138, 140, 140, 141, 143, 145, 156, 156, 157, 161, 162, 162, 163, 163, 170, 171, 174, 174, 175, 177, 178, 182, 184, 185, 187, 187, 188, 196, 196, 196, 199, 200, 213, 216, 222, 224, 225, 227, 228, 229, 238, 238, 240, 242, 242, 244, 248, 250, 250, 252, 258, 259, 265, 271, 272, 278, 279, 280, 281, 281, 281, 282, 282, 285, 286, 287, 290, 291, 292, 293, 294, 295, 301, 304, 305, 310, 311, 312, 315, 317, 318, 319, 319, 320, 321, 323, 323, 325, 326, 326, 329, 331, 338, 338, 339, 341, 341, 349, 351, 353, 356, 357, 359, 360, 360, 364, 366, 368, 368, 370, 371, 372, 374, 375, 375, 375, 376, 376, 385, 386, 387, 388, 389, 389, 393, 399, 409, 410, 413, 417, 418, 420, 424, 427, 428, 428, 429, 432, 434, 439, 440, 442, 448, 455, 456, 456, 458, 464, 466, 469, 472, 473, 474, 489, 492, 493, 493, 494, 494, 495, 497, 502, 503, 503, 503, 505, 509, 511, 511, 512, 514, 516, 518, 519, 520, 522, 523, 523, 525, 528, 530, 531, 536, 536, 539, 541, 543, 543, 546, 547, 549, 549, 549, 554, 554, 555, 557, 558, 561, 568, 570, 573, 575, 577, 578, 583, 584, 584, 586, 591, 591, 592, 598, 599, 601, 606, 607, 609, 612, 612, 613, 615, 616, 618, 620, 623, 623, 626, 627, 629, 629, 631, 632, 632, 633, 633, 633, 635, 636, 637, 637, 642, 642, 643, 645, 645, 649, 649, 650, 652, 657, 659, 660, 660, 662, 663, 672, 672, 677, 683, 684, 685, 691, 692, 696, 696, 696, 697, 697, 698, 701, 702, 702, 703, 703, 706, 707, 708, 712, 713, 714, 722, 725, 726, 726, 728, 729, 729, 732, 735, 738, 741, 746, 746, 750, 751, 752, 753, 754, 755, 758, 761, 761, 761, 770, 771, 771, 772, 775, 776, 777, 780, 785, 789, 791, 795, 795, 795, 798, 802, 803, 803, 807, 807, 808, 808, 809, 810, 812, 813, 814, 815, 817, 818, 822, 822, 822, 826, 828, 832, 835, 836, 845, 849, 851, 853, 855, 856, 858, 860, 863, 866, 867, 868, 871, 877, 877, 877, 887, 887, 887, 890, 890, 891, 892, 892, 894, 895, 896, 897, 897, 898, 900, 901, 902, 905, 905, 906, 907, 908, 909, 911, 913, 914, 921, 924, 928, 929, 930, 936, 936, 939, 940, 940, 941, 942, 947, 948, 949, 950, 950, 950, 950, 953, 954, 961, 962, 962, 962, 963, 963, 965, 966, 969, 969, 969, 969, 971, 973, 974, 975, 985, 986, 986, 986, 986, 990, 990, 992]\n",
      "\n",
      "counter: 1\n",
      "mid index: 255\n",
      "mid value: 518\n",
      "New search set is now 6 to 518\n",
      "\n",
      "counter: 2\n",
      "mid index: 127\n",
      "mid value: 242\n",
      "New search set is now 6 to 242\n",
      "\n",
      "counter: 3\n",
      "mid index: 63\n",
      "mid value: 98\n",
      "New search set is now 6 to 98\n",
      "\n",
      "counter: 4\n",
      "mid index: 31\n",
      "mid value: 52\n",
      "New search set is now 6 to 52\n",
      "\n",
      "counter: 5\n",
      "mid index: 15\n",
      "mid value: 26\n",
      "New search set is now 6 to 26\n",
      "\n",
      "counter: 6\n",
      "mid index: 7\n",
      "mid value: 15\n",
      "New search set is now 6 to 15\n",
      "\n",
      "counter: 7\n",
      "mid index: 3\n",
      "mid value: 10\n",
      "New search set is now 6 to 10\n",
      "\n",
      "counter: 8\n",
      "mid index: 1\n",
      "mid value: 6\n",
      "New search set is now 6 to 6\n",
      "\n",
      "counter: 9\n",
      "mid index: 0\n",
      "mid value: 6\n",
      "New search set is now 6 to 6\n",
      "\n",
      "None\n"
     ]
    }
   ],
   "source": [
    "# 'None' means nil in Python. We use to indicate that the item wasn't found.\n",
    "print(binary_search(arr1, -1)) # => None\n"
   ]
  },
  {
   "cell_type": "markdown",
   "metadata": {},
   "source": [
    "<h1>Create data and compare search algorithms</h1>"
   ]
  },
  {
   "cell_type": "code",
   "execution_count": 188,
   "metadata": {},
   "outputs": [],
   "source": [
    "# Create metrics dataframe\n",
    "results = pd.DataFrame(columns = ['Array Size', 'Sort Time (ms)', 'Linear Search Time (ms)', 'Binary Search Time (ms)', 'Binary Search + Sort Time (ms)']) "
   ]
  },
  {
   "cell_type": "code",
   "execution_count": 247,
   "metadata": {},
   "outputs": [],
   "source": [
    "for i in range(9, 14):\n",
    "    #Create arrays per size requirements\n",
    "    array_size = 2**(i) \n",
    "    \n",
    "    #np.Unique is used instead of np.sort because it also sorts in addition to removing duplicates\n",
    "    arrsort_start = perf_counter_ns()\n",
    "    arrx = np.unique(np.random.uniform(1,1000, array_size).astype(int))\n",
    "    arrsort_stop = perf_counter_ns()\n",
    "    as_time = (arrsort_stop - arrsort_start) / 1000000 #convert from ns to ms\n",
    "    \n",
    "    guess = max(arrx) # element to find\n",
    "    \n",
    "    linear_start = perf_counter_ns()\n",
    "    linear_search(arrx, guess)\n",
    "    linear_stop = perf_counter_ns()\n",
    "    linear_time = (linear_stop - linear_start) / 1000000 #convert from ns to ms\n",
    "    \n",
    "    binary_start = perf_counter_ns()\n",
    "    binary_search(arrx, guess)\n",
    "    binary_stop = perf_counter_ns()\n",
    "    binary_time = (binary_stop - binary_start) / 1000000 #convert from ns to ms\n",
    "    \n",
    "    \n",
    "    results.loc[i] = [array_size, as_time, linear_time, binary_time, binary_time + as_time]\n",
    " \n",
    "\n",
    "\n"
   ]
  },
  {
   "cell_type": "markdown",
   "metadata": {},
   "source": [
    "<h1> Results</h1>"
   ]
  },
  {
   "cell_type": "code",
   "execution_count": 248,
   "metadata": {},
   "outputs": [
    {
     "data": {
      "text/html": [
       "<div>\n",
       "<style scoped>\n",
       "    .dataframe tbody tr th:only-of-type {\n",
       "        vertical-align: middle;\n",
       "    }\n",
       "\n",
       "    .dataframe tbody tr th {\n",
       "        vertical-align: top;\n",
       "    }\n",
       "\n",
       "    .dataframe thead th {\n",
       "        text-align: right;\n",
       "    }\n",
       "</style>\n",
       "<table border=\"1\" class=\"dataframe\">\n",
       "  <thead>\n",
       "    <tr style=\"text-align: right;\">\n",
       "      <th></th>\n",
       "      <th>Array Size</th>\n",
       "      <th>Sort Time (ms)</th>\n",
       "      <th>Linear Search Time (ms)</th>\n",
       "      <th>Binary Search Time (ms)</th>\n",
       "      <th>Binary Search + Sort Time (ms)</th>\n",
       "    </tr>\n",
       "  </thead>\n",
       "  <tbody>\n",
       "    <tr>\n",
       "      <th>9</th>\n",
       "      <td>512.0</td>\n",
       "      <td>0.2779</td>\n",
       "      <td>0.0789</td>\n",
       "      <td>0.0046</td>\n",
       "      <td>0.2825</td>\n",
       "    </tr>\n",
       "    <tr>\n",
       "      <th>10</th>\n",
       "      <td>1024.0</td>\n",
       "      <td>0.3550</td>\n",
       "      <td>0.1831</td>\n",
       "      <td>0.0046</td>\n",
       "      <td>0.3596</td>\n",
       "    </tr>\n",
       "    <tr>\n",
       "      <th>11</th>\n",
       "      <td>2048.0</td>\n",
       "      <td>0.3633</td>\n",
       "      <td>0.1863</td>\n",
       "      <td>0.0042</td>\n",
       "      <td>0.3675</td>\n",
       "    </tr>\n",
       "    <tr>\n",
       "      <th>12</th>\n",
       "      <td>4096.0</td>\n",
       "      <td>0.2076</td>\n",
       "      <td>0.3644</td>\n",
       "      <td>0.0044</td>\n",
       "      <td>0.2120</td>\n",
       "    </tr>\n",
       "    <tr>\n",
       "      <th>13</th>\n",
       "      <td>8192.0</td>\n",
       "      <td>0.4084</td>\n",
       "      <td>0.2358</td>\n",
       "      <td>0.0049</td>\n",
       "      <td>0.4133</td>\n",
       "    </tr>\n",
       "  </tbody>\n",
       "</table>\n",
       "</div>"
      ],
      "text/plain": [
       "    Array Size  Sort Time (ms)  Linear Search Time (ms)  \\\n",
       "9        512.0          0.2779                   0.0789   \n",
       "10      1024.0          0.3550                   0.1831   \n",
       "11      2048.0          0.3633                   0.1863   \n",
       "12      4096.0          0.2076                   0.3644   \n",
       "13      8192.0          0.4084                   0.2358   \n",
       "\n",
       "    Binary Search Time (ms)  Binary Search + Sort Time (ms)  \n",
       "9                    0.0046                          0.2825  \n",
       "10                   0.0046                          0.3596  \n",
       "11                   0.0042                          0.3675  \n",
       "12                   0.0044                          0.2120  \n",
       "13                   0.0049                          0.4133  "
      ]
     },
     "execution_count": 248,
     "metadata": {},
     "output_type": "execute_result"
    }
   ],
   "source": [
    "results"
   ]
  },
  {
   "cell_type": "code",
   "execution_count": 260,
   "metadata": {
    "scrolled": true
   },
   "outputs": [
    {
     "data": {
      "image/png": "[encoded data removed]",
      "text/plain": [
       "<Figure size 576x360 with 1 Axes>"
      ]
     },
     "metadata": {},
     "output_type": "display_data"
    }
   ],
   "source": [
    "sns.set_style(\"white\")\n",
    "\n",
    "ax = results[['Array Size', 'Linear Search Time (ms)', 'Binary Search Time (ms)']].plot.line(x='Array Size', title='Search Comparison',figsize=(8,5))\n",
    "ax.set_xlabel('Array Size')\n",
    "ax.set_ylabel('Search Time (ms)')\n",
    "#ax.set_xticks([512, 1024, 2048, 4096, 8192]) #This looks very distorted on the graph\n",
    "plt.show()\n"
   ]
  },
  {
   "cell_type": "code",
   "execution_count": 261,
   "metadata": {},
   "outputs": [
    {
     "data": {
      "image/png": "[encoded data removed]",
      "text/plain": [
       "<Figure size 576x360 with 1 Axes>"
      ]
     },
     "metadata": {},
     "output_type": "display_data"
    }
   ],
   "source": [
    "\n",
    "ax = results.plot.line(x='Array Size', title='Search Comparison', figsize=(8,5))\n",
    "ax.set_xlabel('Array Size')\n",
    "ax.set_ylabel('Search Time (ms)')\n",
    "plt.show()"
   ]
  },
  {
   "cell_type": "markdown",
   "metadata": {},
   "source": [
    "<h1>Executive Summary of Results</h1>"
   ]
  },
  {
   "cell_type": "markdown",
   "metadata": {},
   "source": [
    "In the beginning of this search algorithm benchmark, we saw that Numpy sort, or np.sort(), greatly outperformed sorted(). So Numpy sort algorithm was used for the purposes of exploring search algorithms. <br>\n",
    "\n",
    "When searching for the max value in the array, the binary search geatly outperformed the linear search, because there were less computations to do.  Picking the max value as our test value highlighted how the logarithmic nature of the binary search helped it to be speedy when there were many values to test. This showed us the worst case scenerio for the search, which is also described by Big O notation. Big O establishes a worst-case runtime and gives us the number of operations required to do the search by using the following mathematical approach. <br><br> \n",
    "Linear searches (simple searches) are O(n), \"linear time\"<br>\n",
    "Binary searhces are O(log2(n)), \"log time\", <br>\n",
    "Where n is # of items to search. <br><br>\n",
    "\n",
    "Since the linear algorithm was doing n searches, this means for the last array, it had to perform 8192 operations, whereas the binary search only had to perform log2(8192), or 13 operations.  Since binary searches are logarithmic, linear searches will never \"catch up\", and binary searches will always outperform them substantially.\n"
   ]
  },
  {
   "cell_type": "markdown",
   "metadata": {},
   "source": [
    "<h2>Github repository: </h2><br> <a href='https://github.com/sandrafield/MSDS-432-Data-Engineering'>https://github.com/sandrafield/MSDS-432-Data-Engineering</a>"
   ]
  },
  {
   "cell_type": "code",
   "execution_count": null,
   "metadata": {},
   "outputs": [],
   "source": []
  }
 ],
 "metadata": {
  "kernelspec": {
   "display_name": "Python 3",
   "language": "python",
   "name": "python3"
  },
  "language_info": {
   "codemirror_mode": {
    "name": "ipython",
    "version": 3
   },
   "file_extension": ".py",
   "mimetype": "text/x-python",
   "name": "python",
   "nbconvert_exporter": "python",
   "pygments_lexer": "ipython3",
   "version": "3.8.5"
  }
 },
 "nbformat": 4,
 "nbformat_minor": 4
}
